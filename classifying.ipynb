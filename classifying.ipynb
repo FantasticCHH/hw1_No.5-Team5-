{
 "cells": [
  {
   "cell_type": "code",
   "execution_count": 2,
   "id": "5d408456",
   "metadata": {},
   "outputs": [],
   "source": [
    "import pandas as pd\n",
    "import csv\n",
    "import random\n",
    "import os\n",
    "import shutil"
   ]
  },
  {
   "cell_type": "code",
   "execution_count": 3,
   "id": "76cb5e72",
   "metadata": {},
   "outputs": [],
   "source": [
    "target_path = 'C:/Users/eric/Desktop/ML/2HW/DATA/Train_Image/class/'\n",
    "original_path = 'C:/Users/eric/Desktop/ML/2HW/DATA/Train_Image/'"
   ]
  },
  {
   "cell_type": "code",
   "execution_count": 4,
   "id": "fdc89fab",
   "metadata": {},
   "outputs": [],
   "source": [
    "with open('C:/users/eric/Desktop/ML/2HW/DATA/train.csv',\"rt\", encoding=\"utf-8-sig\") as csvfile:\n",
    "    reader = csv.reader(csvfile)\n",
    "    rows= [row for row in reader]\n",
    "    for row in rows:\n",
    "        if os.path.exists(target_path+row[1]) :\n",
    "            full_path = original_path + row[0]\n",
    "            shutil.move(full_path,target_path + row[1] +'/')\n",
    "        else :\n",
    "            os.makedirs(target_path+row[1])\n",
    "            full_path = original_path + row[0]\n",
    "            shutil.move(full_path,target_path + row[1] +'/')"
   ]
  },
  {
   "cell_type": "code",
   "execution_count": null,
   "id": "08952413",
   "metadata": {},
   "outputs": [],
   "source": []
  }
 ],
 "metadata": {
  "kernelspec": {
   "display_name": "Python 3",
   "language": "python",
   "name": "python3"
  },
  "language_info": {
   "codemirror_mode": {
    "name": "ipython",
    "version": 3
   },
   "file_extension": ".py",
   "mimetype": "text/x-python",
   "name": "python",
   "nbconvert_exporter": "python",
   "pygments_lexer": "ipython3",
   "version": "3.8.8"
  }
 },
 "nbformat": 4,
 "nbformat_minor": 5
}
