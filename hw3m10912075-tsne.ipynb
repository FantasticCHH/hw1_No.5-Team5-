{
 "cells": [
  {
   "cell_type": "code",
   "execution_count": 1,
   "id": "2d04584a",
   "metadata": {},
   "outputs": [],
   "source": [
    "import pandas as pd\n",
    "import numpy as np\n",
    "from sklearn.preprocessing import StandardScaler\n",
    "from sklearn.preprocessing import LabelEncoder\n",
    "import matplotlib.pyplot as plt\n",
    "from sklearn.manifold import TSNE"
   ]
  },
  {
   "cell_type": "code",
   "execution_count": 2,
   "id": "afc921cb",
   "metadata": {},
   "outputs": [],
   "source": [
    "drink = pd.read_csv(\"C:/Users/eric/Desktop/ML/3HW/Drink_Dataset.csv\")\n",
    "y=drink[\"class\"].fillna(\"NaN\")"
   ]
  },
  {
   "cell_type": "code",
   "execution_count": 3,
   "id": "c3a3cec7",
   "metadata": {},
   "outputs": [],
   "source": [
    "counter_nan = drink.isnull().sum()\n",
    "counter_without_nan=counter_nan[counter_nan == 0]"
   ]
  },
  {
   "cell_type": "code",
   "execution_count": 4,
   "id": "4b022280",
   "metadata": {},
   "outputs": [],
   "source": [
    "drink = drink[counter_without_nan.keys()]"
   ]
  },
  {
   "cell_type": "code",
   "execution_count": 5,
   "id": "b360e3d3",
   "metadata": {},
   "outputs": [],
   "source": [
    "le=LabelEncoder()\n",
    "for col in drink.columns.values:\n",
    "    if drink[col].dtypes == \"object\":\n",
    "        unique_labels=np.unique(drink[col])\n",
    "        le.fit(unique_labels)\n",
    "        drink[col]=le.transform(drink[col])"
   ]
  },
  {
   "cell_type": "code",
   "execution_count": 6,
   "id": "c55af92e",
   "metadata": {},
   "outputs": [],
   "source": [
    "le.fit(np.unique(y))\n",
    "y=le.transform(y)"
   ]
  },
  {
   "cell_type": "code",
   "execution_count": 8,
   "id": "4bb82b4d",
   "metadata": {},
   "outputs": [],
   "source": [
    "X = drink[:].values\n",
    "standard_scalar = StandardScaler()\n",
    "x_std = standard_scalar.fit_transform(X)"
   ]
  },
  {
   "cell_type": "code",
   "execution_count": 9,
   "id": "17e78f51",
   "metadata": {},
   "outputs": [],
   "source": [
    "tsne = TSNE(n_components=2, random_state=0)\n",
    "x_std_2d = tsne.fit_transform(x_std)"
   ]
  },
  {
   "cell_type": "code",
   "execution_count": 10,
   "id": "e982008d",
   "metadata": {},
   "outputs": [],
   "source": [
    "markers=('s', 'd', 'o')\n",
    "color_map = {0:'red', 1:'blue', 2:'lightgreen'}"
   ]
  },
  {
   "cell_type": "code",
   "execution_count": 19,
   "id": "81504bc3",
   "metadata": {},
   "outputs": [
    {
     "data": {
      "text/plain": [
       "<Figure size 432x288 with 0 Axes>"
      ]
     },
     "metadata": {},
     "output_type": "display_data"
    }
   ],
   "source": [
    "plt.figure()\n",
    "labels = list(drink.columns[0:])"
   ]
  },
  {
   "cell_type": "code",
   "execution_count": 47,
   "id": "40202f5c",
   "metadata": {},
   "outputs": [
    {
     "name": "stderr",
     "output_type": "stream",
     "text": [
      "No handles with labels found to put in legend.\n"
     ]
    },
    {
     "data": {
      "image/png": "[encoded data removed]",
      "text/plain": [
       "<Figure size 432x288 with 1 Axes>"
      ]
     },
     "metadata": {
      "needs_background": "light"
     },
     "output_type": "display_data"
    }
   ],
   "source": [
    "for idx, cl in enumerate(np.unique(y)):\n",
    "    plt.scatter(x=x_std_2d[y==cl,0], y=x_std_2d[y==cl,1])\n",
    "plt.xlabel('X in t-SNE')\n",
    "plt.ylabel('Y in t-SNE')\n",
    "plt.legend(loc='upper left')\n",
    "plt.title('t-SNE visualization of test data')\n",
    "plt.show()"
   ]
  },
  {
   "cell_type": "code",
   "execution_count": null,
   "id": "a1f27c63",
   "metadata": {},
   "outputs": [],
   "source": []
  }
 ],
 "metadata": {
  "kernelspec": {
   "display_name": "Python 3",
   "language": "python",
   "name": "python3"
  },
  "language_info": {
   "codemirror_mode": {
    "name": "ipython",
    "version": 3
   },
   "file_extension": ".py",
   "mimetype": "text/x-python",
   "name": "python",
   "nbconvert_exporter": "python",
   "pygments_lexer": "ipython3",
   "version": "3.8.8"
  }
 },
 "nbformat": 4,
 "nbformat_minor": 5
}
