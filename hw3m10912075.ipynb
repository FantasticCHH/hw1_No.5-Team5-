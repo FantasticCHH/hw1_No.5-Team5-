{
 "cells": [
  {
   "cell_type": "code",
   "execution_count": 1,
   "id": "07b5dc71",
   "metadata": {},
   "outputs": [],
   "source": [
    "import pandas as pd\n",
    "import numpy as np\n",
    "cities = pd.read_csv('C:/Users/eric/Desktop/ML/3HW/distance.csv')\n",
    "labels = list(cities.columns[0:])\n",
    "cities = cities.iloc[:,0:]\n",
    "dist_cities = np.array(cities)\n",
    "import matplotlib.pyplot as plt\n",
    "from sklearn.manifold import MDS"
   ]
  },
  {
   "cell_type": "code",
   "execution_count": 2,
   "id": "94abf471",
   "metadata": {},
   "outputs": [
    {
     "data": {
      "text/html": [
       "<div>\n",
       "<style scoped>\n",
       "    .dataframe tbody tr th:only-of-type {\n",
       "        vertical-align: middle;\n",
       "    }\n",
       "\n",
       "    .dataframe tbody tr th {\n",
       "        vertical-align: top;\n",
       "    }\n",
       "\n",
       "    .dataframe thead th {\n",
       "        text-align: right;\n",
       "    }\n",
       "</style>\n",
       "<table border=\"1\" class=\"dataframe\">\n",
       "  <thead>\n",
       "    <tr style=\"text-align: right;\">\n",
       "      <th></th>\n",
       "      <th>Taipei</th>\n",
       "      <th>Taoyuan</th>\n",
       "      <th>Hsinchu</th>\n",
       "      <th>Taichung</th>\n",
       "      <th>Yunlin</th>\n",
       "      <th>Tainan</th>\n",
       "      <th>Kaohsiung</th>\n",
       "    </tr>\n",
       "  </thead>\n",
       "  <tbody>\n",
       "    <tr>\n",
       "      <th>0</th>\n",
       "      <td>0.00</td>\n",
       "      <td>30.66</td>\n",
       "      <td>54.97</td>\n",
       "      <td>138.30</td>\n",
       "      <td>183.75</td>\n",
       "      <td>267.16</td>\n",
       "      <td>289.90</td>\n",
       "    </tr>\n",
       "    <tr>\n",
       "      <th>1</th>\n",
       "      <td>30.66</td>\n",
       "      <td>0.00</td>\n",
       "      <td>28.82</td>\n",
       "      <td>117.08</td>\n",
       "      <td>163.63</td>\n",
       "      <td>250.66</td>\n",
       "      <td>274.62</td>\n",
       "    </tr>\n",
       "    <tr>\n",
       "      <th>2</th>\n",
       "      <td>54.97</td>\n",
       "      <td>28.82</td>\n",
       "      <td>0.00</td>\n",
       "      <td>88.50</td>\n",
       "      <td>135.15</td>\n",
       "      <td>223.01</td>\n",
       "      <td>247.36</td>\n",
       "    </tr>\n",
       "    <tr>\n",
       "      <th>3</th>\n",
       "      <td>138.30</td>\n",
       "      <td>117.08</td>\n",
       "      <td>88.50</td>\n",
       "      <td>0.00</td>\n",
       "      <td>46.70</td>\n",
       "      <td>136.24</td>\n",
       "      <td>161.57</td>\n",
       "    </tr>\n",
       "    <tr>\n",
       "      <th>4</th>\n",
       "      <td>183.75</td>\n",
       "      <td>163.63</td>\n",
       "      <td>135.15</td>\n",
       "      <td>46.70</td>\n",
       "      <td>0.00</td>\n",
       "      <td>90.91</td>\n",
       "      <td>116.92</td>\n",
       "    </tr>\n",
       "    <tr>\n",
       "      <th>5</th>\n",
       "      <td>267.16</td>\n",
       "      <td>250.66</td>\n",
       "      <td>223.01</td>\n",
       "      <td>136.24</td>\n",
       "      <td>90.91</td>\n",
       "      <td>0.00</td>\n",
       "      <td>26.56</td>\n",
       "    </tr>\n",
       "    <tr>\n",
       "      <th>6</th>\n",
       "      <td>289.90</td>\n",
       "      <td>274.62</td>\n",
       "      <td>247.36</td>\n",
       "      <td>161.57</td>\n",
       "      <td>116.92</td>\n",
       "      <td>26.56</td>\n",
       "      <td>0.00</td>\n",
       "    </tr>\n",
       "  </tbody>\n",
       "</table>\n",
       "</div>"
      ],
      "text/plain": [
       "   Taipei  Taoyuan  Hsinchu  Taichung  Yunlin  Tainan  Kaohsiung\n",
       "0    0.00    30.66    54.97    138.30  183.75  267.16     289.90\n",
       "1   30.66     0.00    28.82    117.08  163.63  250.66     274.62\n",
       "2   54.97    28.82     0.00     88.50  135.15  223.01     247.36\n",
       "3  138.30   117.08    88.50      0.00   46.70  136.24     161.57\n",
       "4  183.75   163.63   135.15     46.70    0.00   90.91     116.92\n",
       "5  267.16   250.66   223.01    136.24   90.91    0.00      26.56\n",
       "6  289.90   274.62   247.36    161.57  116.92   26.56       0.00"
      ]
     },
     "execution_count": 2,
     "metadata": {},
     "output_type": "execute_result"
    }
   ],
   "source": [
    "cities.head(10)"
   ]
  },
  {
   "cell_type": "code",
   "execution_count": 5,
   "id": "206764d2",
   "metadata": {},
   "outputs": [
    {
     "name": "stderr",
     "output_type": "stream",
     "text": [
      "C:\\Users\\eric\\anaconda3\\envs\\py2\\lib\\site-packages\\sklearn\\manifold\\_mds.py:441: UserWarning: The MDS API has changed. ``fit`` now constructs an dissimilarity matrix from data. To use a custom dissimilarity matrix, set ``dissimilarity='precomputed'``.\n",
      "  warnings.warn(\"The MDS API has changed. ``fit`` now constructs an\"\n"
     ]
    },
    {
     "data": {
      "image/png": "[encoded data removed]",
      "text/plain": [
       "<Figure size 720x720 with 1 Axes>"
      ]
     },
     "metadata": {
      "needs_background": "light"
     },
     "output_type": "display_data"
    }
   ],
   "source": [
    "# metric MDS\n",
    "np.random.seed(0)\n",
    "model = MDS(n_components=2)\n",
    "X = model.fit_transform(dist_cities)\n",
    "# plot results\n",
    "_ = plt.figure(figsize=(10,10))\n",
    "_ = plt.scatter(X[:, 0], X[:, 1], c='red')\n",
    "_ = plt.title('taiwan HSR', size=20)\n",
    "for i in range(len(labels)):\n",
    "    _ = plt.text(X[i][0]+0.02, X[i][1]+0.02, s=labels[i], size=16)"
   ]
  },
  {
   "cell_type": "code",
   "execution_count": null,
   "id": "64865925",
   "metadata": {},
   "outputs": [],
   "source": []
  }
 ],
 "metadata": {
  "kernelspec": {
   "display_name": "Python 3",
   "language": "python",
   "name": "python3"
  },
  "language_info": {
   "codemirror_mode": {
    "name": "ipython",
    "version": 3
   },
   "file_extension": ".py",
   "mimetype": "text/x-python",
   "name": "python",
   "nbconvert_exporter": "python",
   "pygments_lexer": "ipython3",
   "version": "3.8.8"
  }
 },
 "nbformat": 4,
 "nbformat_minor": 5
}
