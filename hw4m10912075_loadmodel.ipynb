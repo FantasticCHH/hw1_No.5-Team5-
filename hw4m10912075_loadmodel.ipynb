{
 "cells": [
  {
   "cell_type": "code",
   "execution_count": 1,
   "id": "c64a47d4",
   "metadata": {},
   "outputs": [
    {
     "name": "stderr",
     "output_type": "stream",
     "text": [
      "Saving vectors of label - '0': 100%|██████████| 822/822 [00:23<00:00, 34.75it/s]\n"
     ]
    }
   ],
   "source": [
    "from hw4m10912075preprocess import*\n",
    "import keras\n",
    "from keras.models import Sequential\n",
    "from keras.layers import Dense, Dropout, Flatten, Conv2D, MaxPooling2D\n",
    "from keras.utils import to_categorical\n",
    "from keras.layers.normalization import BatchNormalization\n",
    "# Second dimension of the feature is dim2\n",
    "feature_dim_2 = 50#50 \n",
    "\n",
    "# Save data to array file first\n",
    "save_data_to_array(max_len=feature_dim_2)\n",
    "\n",
    "# # Loading train set and test set\n",
    "X_train, X_test, y_train, y_test = get_train_test()\n",
    "#X_train, y_train = get_train_test()\n",
    "# # Feature dimension\n",
    "feature_dim_1 = 20#20\n",
    "channel = 1\n",
    "epochs =200\n",
    "batch_size = 50#50 35\n",
    "verbose = 1\n",
    "num_classes = 8"
   ]
  },
  {
   "cell_type": "code",
   "execution_count": 2,
   "id": "dc974590",
   "metadata": {},
   "outputs": [],
   "source": [
    "# Reshaping to perform 2D convolution\n",
    "X_train = X_train.reshape(X_train.shape[0], feature_dim_1, feature_dim_2, channel)\n",
    "X_test = X_test.reshape(X_test.shape[0], feature_dim_1, feature_dim_2, channel)\n",
    "\n",
    "y_train_hot = to_categorical(y_train)\n",
    "y_test_hot = to_categorical(y_test)"
   ]
  },
  {
   "cell_type": "code",
   "execution_count": 3,
   "id": "3d903e11",
   "metadata": {},
   "outputs": [
    {
     "data": {
      "text/plain": [
       "\"\\ndef get_model():\\n    model=Sequential()\\n    model.add(BatchNormalization(input_shape=(feature_dim_1, feature_dim_2, channel)))\\n    model.add(Conv2D(64, kernel_size=(2,2),activation='relu'))\\n    model.add(MaxPooling2D(pool_size=(2,2)))\\n    model.add(Dropout(0.3))\\n    model.add(Conv2D(128, kernel_size=(2,2), activation='relu'))    \\n    model.add(MaxPooling2D(pool_size=(2,2)))\\n   \\n    model.add(Conv2D(256, kernel_size=(2,2), activation='relu'))    \\n    model.add(MaxPooling2D(pool_size=(2,2)))\\n    \\n    model.add(Flatten())\\n    \\n    model.add(Dense(256, activation='relu'))   \\n    model.add(Dropout(0.3))\\n   \\n    model.add(Dense(num_classes, activation='softmax'))\\n    model.compile(loss=keras.losses.categorical_crossentropy,\\n                  optimizer=keras.optimizers.Adam(),\\n                  metrics=['accuracy'])\\n    \\n    return model\\n\\n# Predicts one sample\\ndef predict(filepath, model):\\n    sample = wav2mfcc(filepath)\\n    sample = sample**2\\n    sample = sample**0.5\\n    sample_reshaped = sample.reshape( feature_dim_1, feature_dim_2, channel)\\n    return get_labels()[0][\\n            np.argmax(model.predict(sample_reshaped))\\n    ]\\n\\n\\nmodel = get_model()\\nmodel.fit(X_train, y_train_hot, batch_size=batch_size, epochs=epochs, verbose=verbose, validation_data=(X_test, y_test_hot))\\nmodel.save('my_model0623.h5')\\n\""
      ]
     },
     "execution_count": 3,
     "metadata": {},
     "output_type": "execute_result"
    }
   ],
   "source": [
    "#------------------------------訓練------------------------\n",
    "'''\n",
    "def get_model():\n",
    "    model=Sequential()\n",
    "    model.add(BatchNormalization(input_shape=(feature_dim_1, feature_dim_2, channel)))\n",
    "    model.add(Conv2D(64, kernel_size=(2,2),activation='relu'))\n",
    "    model.add(MaxPooling2D(pool_size=(2,2)))\n",
    "    model.add(Dropout(0.3))\n",
    "    model.add(Conv2D(128, kernel_size=(2,2), activation='relu'))    \n",
    "    model.add(MaxPooling2D(pool_size=(2,2)))\n",
    "   \n",
    "    model.add(Conv2D(256, kernel_size=(2,2), activation='relu'))    \n",
    "    model.add(MaxPooling2D(pool_size=(2,2)))\n",
    "    \n",
    "    model.add(Flatten())\n",
    "    \n",
    "    model.add(Dense(256, activation='relu'))   \n",
    "    model.add(Dropout(0.3))\n",
    "   \n",
    "    model.add(Dense(num_classes, activation='softmax'))\n",
    "    model.compile(loss=keras.losses.categorical_crossentropy,\n",
    "                  optimizer=keras.optimizers.Adam(),\n",
    "                  metrics=['accuracy'])\n",
    "    \n",
    "    return model\n",
    "\n",
    "# Predicts one sample\n",
    "def predict(filepath, model):\n",
    "    sample = wav2mfcc(filepath)\n",
    "    sample = sample**2\n",
    "    sample = sample**0.5\n",
    "    sample_reshaped = sample.reshape( feature_dim_1, feature_dim_2, channel)\n",
    "    return get_labels()[0][\n",
    "            np.argmax(model.predict(sample_reshaped))\n",
    "    ]\n",
    "\n",
    "\n",
    "model = get_model()\n",
    "model.fit(X_train, y_train_hot, batch_size=batch_size, epochs=epochs, verbose=verbose, validation_data=(X_test, y_test_hot))\n",
    "model.save('my_model0623.h5')\n",
    "'''"
   ]
  },
  {
   "cell_type": "code",
   "execution_count": 4,
   "id": "dbfcd8dd",
   "metadata": {},
   "outputs": [
    {
     "name": "stderr",
     "output_type": "stream",
     "text": [
      "C:\\Users\\eric\\AppData\\Roaming\\Python\\Python38\\site-packages\\tensorflow\\python\\keras\\engine\\sequential.py:450: UserWarning: `model.predict_classes()` is deprecated and will be removed after 2021-01-01. Please use instead:* `np.argmax(model.predict(x), axis=-1)`,   if your model does multi-class classification   (e.g. if it uses a `softmax` last-layer activation).* `(model.predict(x) > 0.5).astype(\"int32\")`,   if your model does binary classification   (e.g. if it uses a `sigmoid` last-layer activation).\n",
      "  warnings.warn('`model.predict_classes()` is deprecated and '\n"
     ]
    },
    {
     "name": "stdout",
     "output_type": "stream",
     "text": [
      "[3 6 7 3 3 5 4 4 5 6 5 3 4 2 4 2 5 6 1 3 2 6 4 6 6 3 5 3 0 2 0 4 1 0 4 1 3\n",
      " 3 1 5 4 5 6 0 6 1 5 4 3 5 3 2 7 5 3 7 4 3 1 5 6 5 5 4 7 5 6 3 2 1 1 0 0 4\n",
      " 1 5 4 0 7 3 6 4 7 3 0 0 5 3 2 2 6 4 0 5 7 3 2 5 0 6 5 2 2 7 1 6 3 6 0 7 3\n",
      " 2 3 1 1 3 1 1 4 2 3 2 7 5 5 2 0 7 4 7 6 3 5 6 6 0 7 6 6 2 7 0 5 6 4 6 6 1\n",
      " 2 1 7 4 0 7 5 5 2 1 0 6 7 5 3 4 1 5 7 5 5 0 1 6 4 4 4 5 0 6 5 7 3 6 7 7 5\n",
      " 1 6 3 6 1 0 3 0 2 3 4 2 4 6 2 5 2 4 3 0 4 6 4 4 6 2 1 2 1 6 0 0 6 3 2 0 1\n",
      " 6 0 5 1 5 3 2 6 4 7 4 5 6 3 3 7 6 0 2 2 5 1 3 0 0 0 5 3 6 4 2 7 5 4 2 0 3\n",
      " 6 1 1 2 3 1 3 4 4 5 6 3 5 3 4 5 2 5 1 3 1 6 3 7 1 3 2 0 6 2 4 6 2 1 1 0 5\n",
      " 7 4 7 2 0 5 5 1 2 5 1 3 1 2 6 3 7 6 3 2 3 1 5 3 0 0 4 0 0 5 4 3 3 1 5 1 7\n",
      " 5 2 0 1 3 0 4 6 1 4 6 7 1 1 6 6 0 7 6 7 5 2 1 2 3 4 2 2 0 4 6 0 2 2 5 2 2\n",
      " 6 1 5 3 1 0 5 2 0 4 5 3 3 3 3 5 5 2 4 5 1 6 6 2 3 5 3 1 0 4 6 3 1 3 7 5 6\n",
      " 0 7 5 1 3 1 3 3 4 4 2 2 6 5 4 5 4 7 3 1 0 0 1 7 0 7 2 3 1 5 3 3 0 6 6 5 0\n",
      " 5 7 2 3 1 6 0 4 7 3 1 6 1 4 3 2 7 5 5 5 4 4 7 5 3 0 3 3 1 0 5 4 6 3 1 0 6\n",
      " 4 0 5 2 6 6 7 3 7 4 7 1 5 1 0 1 6 7 3 3 0 4 3 0 1 4 3 3 6 0 6 5 3 3 2 5 2\n",
      " 6 6 6 6 3 1 1 3 1 5 2 1 5 0 6 1 5 2 2 5 7 3 1 6 0 6 5 2 5 0 1 5 2 2 7 5 0\n",
      " 7 1 4 2 5 7 5 7 2 5 1 3 5 4 3 0 7 3 2 0 6 3 3 0 4 2 0 3 2 5 3 3 1 2 6 3 2\n",
      " 1 2 3 2 5 0 4 0 5 2 1 1 4 5 2 3 0 2 0 7 6 5 2 1 2 3 2 3 0 0 3 1 2 3 2 2 7\n",
      " 5 1 0 5 2 1 5 2 5 5 7 5 1 6 3 3 1 0 5 4 5 3 5 4 5 6 2 5 1 1 0 0 2 5 5 0 5\n",
      " 7 0 3 3 7 4 3 5 5 6 5 6 7 5 4 7 7 4 5 6 6 4 5 5 4 7 7 5 5 0 4 4 6 6 0 3 2\n",
      " 5 2 6 4 2 1 0 1 0 4 5 5 4 0 5 1 5 2 6 1 2 6 4 5 4 7 5 6 5 5 7 6 6 2 5 5 6\n",
      " 3 5 0 5 3 6 0 0 7 0 5 2 4 3 2 1 5 0 5 2 3 5 3 5 2 3 0 5 3 0 4 0 7 5 5 5 2\n",
      " 3 4 4 3 5 5 6 4 2 5 5 6 3 5 5 4 6 5 3 0 4 5 4 2 5 1 5 5 5 5 5 6 5 5 5 2 5\n",
      " 2 3 5 6 6 5 5]\n"
     ]
    }
   ],
   "source": [
    "#%%-------=-------------------測試-------------\n",
    "\n",
    "from keras.models import load_model\n",
    "model = load_model(\"my_model0623.h5\")\n",
    "\n",
    "predict1 = model.predict_classes(X_train)\n",
    "print(predict1)"
   ]
  },
  {
   "cell_type": "code",
   "execution_count": 5,
   "id": "2bcab090",
   "metadata": {},
   "outputs": [],
   "source": [
    "#%%存檔CSV檔\n",
    "\n",
    "#labels = os.listdir(\"./demotest/666/\")#demotest\n",
    "labels = os.listdir(\"./test_set/0/\")\n",
    "\n",
    "import csv\n",
    "c=0\n",
    "\n",
    "#補標題\n",
    "table=[['wav','label']]\n",
    "with open('output.csv', 'a', newline='') as csvfile:\n",
    "        writer = csv.writer(csvfile)\n",
    "      # 寫入二維表格\n",
    "        writer.writerows(table)\n",
    "        \n",
    "for a in predict1:\n",
    "    table=[\n",
    "        [labels[c],a],\n",
    "        ]\n",
    "    c+=1\n",
    "    with open('output.csv', 'a', newline='') as csvfile:\n",
    "        writer = csv.writer(csvfile)\n",
    "      # 寫入二維表格\n",
    "        writer.writerows(table)\n",
    "#補最後一個       \n",
    "table=[['509142.wav','2']]       \n",
    "with open('output.csv', 'a', newline='') as csvfile:\n",
    "        writer = csv.writer(csvfile)\n",
    "      # 寫入二維表格\n",
    "        writer.writerows(table)"
   ]
  },
  {
   "cell_type": "code",
   "execution_count": null,
   "id": "36fc1585",
   "metadata": {},
   "outputs": [],
   "source": []
  }
 ],
 "metadata": {
  "kernelspec": {
   "display_name": "Python 3",
   "language": "python",
   "name": "python3"
  },
  "language_info": {
   "codemirror_mode": {
    "name": "ipython",
    "version": 3
   },
   "file_extension": ".py",
   "mimetype": "text/x-python",
   "name": "python",
   "nbconvert_exporter": "python",
   "pygments_lexer": "ipython3",
   "version": "3.8.8"
  }
 },
 "nbformat": 4,
 "nbformat_minor": 5
}
